{
  "nbformat": 4,
  "nbformat_minor": 0,
  "metadata": {
    "colab": {
      "provenance": []
    },
    "kernelspec": {
      "name": "python3",
      "display_name": "Python 3"
    },
    "language_info": {
      "name": "python"
    }
  },
  "cells": [
    {
      "cell_type": "markdown",
      "source": [
        "## 1. Write a code to create a string with your name and print it"
      ],
      "metadata": {
        "id": "TgJaqyxwPWmB"
      }
    },
    {
      "cell_type": "code",
      "execution_count": null,
      "metadata": {
        "colab": {
          "base_uri": "https://localhost:8080/"
        },
        "id": "Q5A06PfxPGVV",
        "outputId": "0455b547-1d7a-4884-f23e-fef80f38239b"
      },
      "outputs": [
        {
          "output_type": "stream",
          "name": "stdout",
          "text": [
            "Kirti\n"
          ]
        }
      ],
      "source": [
        "name = \"Kirti\"\n",
        "print(name)"
      ]
    },
    {
      "cell_type": "markdown",
      "source": [
        "## 2. Write a code to find the length of the string \"Hello World\"."
      ],
      "metadata": {
        "id": "-XnAa5phPo1Q"
      }
    },
    {
      "cell_type": "code",
      "source": [
        "w = \"Hello World\"\n",
        "print(len(w))\n",
        "\n",
        "#or\n",
        "\n",
        "print(len(\"Hello World\"))"
      ],
      "metadata": {
        "colab": {
          "base_uri": "https://localhost:8080/"
        },
        "id": "cuHaY3dmPnhZ",
        "outputId": "20554d73-7a8e-4816-dc1e-30c9fbd62886"
      },
      "execution_count": null,
      "outputs": [
        {
          "output_type": "stream",
          "name": "stdout",
          "text": [
            "11\n",
            "11\n"
          ]
        }
      ]
    },
    {
      "cell_type": "markdown",
      "source": [
        "## 3. Write a code to slice the first 3 characters from the string \"Python Programming\"."
      ],
      "metadata": {
        "id": "zjsKIIjcQTTN"
      }
    },
    {
      "cell_type": "code",
      "source": [
        "s = \"Python Programming\"\n",
        "s1 = s[:3]\n",
        "print(s1)"
      ],
      "metadata": {
        "colab": {
          "base_uri": "https://localhost:8080/"
        },
        "id": "IjUoBm3LTI16",
        "outputId": "38bcd44f-6201-4327-895f-0fb69de11412"
      },
      "execution_count": null,
      "outputs": [
        {
          "output_type": "stream",
          "name": "stdout",
          "text": [
            "Pyt\n"
          ]
        }
      ]
    },
    {
      "cell_type": "markdown",
      "source": [
        "## 4. Write a code to convert the string \"hello\" to uppercase."
      ],
      "metadata": {
        "id": "n9Ud5U_WQfnk"
      }
    },
    {
      "cell_type": "code",
      "source": [
        "a = \"hello\"\n",
        "print(a.upper())"
      ],
      "metadata": {
        "colab": {
          "base_uri": "https://localhost:8080/"
        },
        "id": "LkzdlL4_QykN",
        "outputId": "8e739c6a-b024-47cc-8304-80108f820e56"
      },
      "execution_count": null,
      "outputs": [
        {
          "output_type": "stream",
          "name": "stdout",
          "text": [
            "HELLO\n"
          ]
        }
      ]
    },
    {
      "cell_type": "markdown",
      "source": [
        "## 5. Write a code to replace the word \"apple\" with \"orange\" in the string \"I like apple\"."
      ],
      "metadata": {
        "id": "yoFAGUVkRPEc"
      }
    },
    {
      "cell_type": "code",
      "source": [
        "b = \"I like apple\"\n",
        "print(b)\n",
        "b = b.replace(\"apple\", \"orange\")\n",
        "print(b)"
      ],
      "metadata": {
        "colab": {
          "base_uri": "https://localhost:8080/"
        },
        "id": "QoWA-cBxRpru",
        "outputId": "71b808a0-c1fc-4e9f-c944-be5276a712a5"
      },
      "execution_count": null,
      "outputs": [
        {
          "output_type": "stream",
          "name": "stdout",
          "text": [
            "I like apple\n",
            "I like orange\n"
          ]
        }
      ]
    },
    {
      "cell_type": "markdown",
      "source": [
        "## 6. Write a code to create a list with numbers 1 to 5 and print it."
      ],
      "metadata": {
        "id": "FlWmclF0SqBE"
      }
    },
    {
      "cell_type": "code",
      "source": [
        "l1 = [1, 2, 3, 4, 5]\n",
        "print(l1)"
      ],
      "metadata": {
        "colab": {
          "base_uri": "https://localhost:8080/"
        },
        "id": "5PzLC7kGSiOy",
        "outputId": "53fccb92-8f9d-4b11-b712-d0c4765a4f44"
      },
      "execution_count": null,
      "outputs": [
        {
          "output_type": "stream",
          "name": "stdout",
          "text": [
            "[1, 2, 3, 4, 5]\n"
          ]
        }
      ]
    },
    {
      "cell_type": "markdown",
      "source": [
        "## 7. P Write a code to append the number 10 to the list [1, 2, 3, 4]."
      ],
      "metadata": {
        "id": "JBOTA4zCTdmZ"
      }
    },
    {
      "cell_type": "code",
      "source": [
        "l2 = [1, 2, 3, 4]\n",
        "l2.append(10)\n",
        "print(l2)"
      ],
      "metadata": {
        "colab": {
          "base_uri": "https://localhost:8080/"
        },
        "id": "LZ1ALGzpTdTy",
        "outputId": "5184e9de-bebf-46fd-d692-ca10daad3f2e"
      },
      "execution_count": null,
      "outputs": [
        {
          "output_type": "stream",
          "name": "stdout",
          "text": [
            "[1, 2, 3, 4, 10]\n"
          ]
        }
      ]
    },
    {
      "cell_type": "markdown",
      "source": [
        "## 8. Write a code to remove the number 3 from the list [1, 2, 3, 4, 5]."
      ],
      "metadata": {
        "id": "ReSFFNT0T1Ox"
      }
    },
    {
      "cell_type": "code",
      "source": [
        "l3 = [1, 2, 3, 4, 5]\n",
        "l3.remove(3)\n",
        "print(l3)"
      ],
      "metadata": {
        "colab": {
          "base_uri": "https://localhost:8080/"
        },
        "id": "iTFnx9Z8S6ch",
        "outputId": "5d9162f8-5b7a-4714-f5f6-4d1d8dba977a"
      },
      "execution_count": null,
      "outputs": [
        {
          "output_type": "stream",
          "name": "stdout",
          "text": [
            "[1, 2, 4, 5]\n"
          ]
        }
      ]
    },
    {
      "cell_type": "markdown",
      "source": [
        "## 9. Write a code to access the second element in the list ['a', 'b', 'c', 'd']."
      ],
      "metadata": {
        "id": "uDY5rXM2UFPb"
      }
    },
    {
      "cell_type": "code",
      "source": [
        "l4 = ['a', 'b', 'c', 'd']\n",
        "print(l4[1])"
      ],
      "metadata": {
        "colab": {
          "base_uri": "https://localhost:8080/"
        },
        "id": "HPleLhUeUD9c",
        "outputId": "813ba285-08ff-4b48-e3d8-c6f24f239cbc"
      },
      "execution_count": null,
      "outputs": [
        {
          "output_type": "stream",
          "name": "stdout",
          "text": [
            "b\n"
          ]
        }
      ]
    },
    {
      "cell_type": "markdown",
      "source": [
        "## 10. Write a code to reverse the list [10, 20, 30, 40, 50]."
      ],
      "metadata": {
        "id": "nPEo6VIzUgpx"
      }
    },
    {
      "cell_type": "code",
      "source": [
        "l5 = [10, 20, 30, 40, 50]\n",
        "l5.reverse()\n",
        "print(l5)"
      ],
      "metadata": {
        "colab": {
          "base_uri": "https://localhost:8080/"
        },
        "id": "8VyCgRPhUbg4",
        "outputId": "508d495e-1fb2-4dab-e4c1-3553a766fadf"
      },
      "execution_count": null,
      "outputs": [
        {
          "output_type": "stream",
          "name": "stdout",
          "text": [
            "[50, 40, 30, 20, 10]\n"
          ]
        }
      ]
    },
    {
      "cell_type": "markdown",
      "source": [
        "## 11. Write a code to create a tuple with the elements 100, 200, 300 and print it."
      ],
      "metadata": {
        "id": "i5cKiiSMU16g"
      }
    },
    {
      "cell_type": "code",
      "source": [
        "t1 = (100, 200, 300)\n",
        "print(t1)"
      ],
      "metadata": {
        "colab": {
          "base_uri": "https://localhost:8080/"
        },
        "id": "aAWwQDSBUu08",
        "outputId": "2e2bbf88-34ff-42c3-af25-fba40475616f"
      },
      "execution_count": null,
      "outputs": [
        {
          "output_type": "stream",
          "name": "stdout",
          "text": [
            "(100, 200, 300)\n"
          ]
        }
      ]
    },
    {
      "cell_type": "markdown",
      "source": [
        "## 12. Write a code to access the second-to-last element of the tuple ('red', 'green', 'blue', 'yellow')."
      ],
      "metadata": {
        "id": "eGD9yogxVC_w"
      }
    },
    {
      "cell_type": "code",
      "source": [
        "t2 = (\"red\", \"green\", \"blue\", \"yellow\")\n",
        "t2[-2]"
      ],
      "metadata": {
        "colab": {
          "base_uri": "https://localhost:8080/",
          "height": 36
        },
        "id": "UyuY8_dIVCDS",
        "outputId": "20d66711-1b80-4ce6-aedc-70cacc98ddab"
      },
      "execution_count": null,
      "outputs": [
        {
          "output_type": "execute_result",
          "data": {
            "text/plain": [
              "'blue'"
            ],
            "application/vnd.google.colaboratory.intrinsic+json": {
              "type": "string"
            }
          },
          "metadata": {},
          "execution_count": 32
        }
      ]
    },
    {
      "cell_type": "markdown",
      "source": [
        "## 13. Write a code to find the minimum number in the tuple (10, 20, 5, 15)."
      ],
      "metadata": {
        "id": "Vz_kO0oLVXu3"
      }
    },
    {
      "cell_type": "code",
      "source": [
        "t3 = (10, 20, 5, 15)\n",
        "t3_minimum = min(t3)\n",
        "print(t3_minimum)"
      ],
      "metadata": {
        "colab": {
          "base_uri": "https://localhost:8080/"
        },
        "id": "YvXJb9vpVWvW",
        "outputId": "eab5d34c-29a3-4e16-b5b4-7de2163d6d33"
      },
      "execution_count": null,
      "outputs": [
        {
          "output_type": "stream",
          "name": "stdout",
          "text": [
            "5\n"
          ]
        }
      ]
    },
    {
      "cell_type": "markdown",
      "source": [
        "## 14. Write a code to find the index of the element \"cat\" in the tuple ('dog', 'cat', 'rabbit')."
      ],
      "metadata": {
        "id": "PsxUilY5WJXR"
      }
    },
    {
      "cell_type": "code",
      "source": [
        "t4 = ('dog', 'cat', 'rabbit')\n",
        "t4_index = t4.index(\"cat\")\n",
        "print(t4_index)"
      ],
      "metadata": {
        "colab": {
          "base_uri": "https://localhost:8080/"
        },
        "id": "a4KdGyLSV8Ht",
        "outputId": "876aff26-f35b-44de-fe44-b75f9e28a78d"
      },
      "execution_count": null,
      "outputs": [
        {
          "output_type": "stream",
          "name": "stdout",
          "text": [
            "1\n"
          ]
        }
      ]
    },
    {
      "cell_type": "markdown",
      "source": [
        "## 15. Write a code to create a tuple containing three different fruits and check if \"kiwi\" is in it"
      ],
      "metadata": {
        "id": "WkbbD0PLouUo"
      }
    },
    {
      "cell_type": "code",
      "source": [
        "t5 = ('apple', 'banana', 'kiwi')\n",
        "print('kiwi' in t5)"
      ],
      "metadata": {
        "id": "fkp-GC4wWcFs",
        "colab": {
          "base_uri": "https://localhost:8080/"
        },
        "outputId": "1333ece4-c0a3-4b9b-f6dc-10d487375ac8"
      },
      "execution_count": 5,
      "outputs": [
        {
          "output_type": "stream",
          "name": "stdout",
          "text": [
            "True\n"
          ]
        }
      ]
    },
    {
      "cell_type": "markdown",
      "source": [
        "## 16. Write a code to create a set with the elements 'a', 'b', 'c' and print it."
      ],
      "metadata": {
        "id": "RG0ndDNGrOTN"
      }
    },
    {
      "cell_type": "code",
      "source": [
        "s1 = {'a', 'b', 'c'}\n",
        "print(s1)\n",
        "type(s1)"
      ],
      "metadata": {
        "colab": {
          "base_uri": "https://localhost:8080/"
        },
        "id": "89_TIMHnpNN4",
        "outputId": "32020ce1-87d1-42a0-9c66-769e8884e68a"
      },
      "execution_count": 6,
      "outputs": [
        {
          "output_type": "stream",
          "name": "stdout",
          "text": [
            "{'b', 'a', 'c'}\n"
          ]
        },
        {
          "output_type": "execute_result",
          "data": {
            "text/plain": [
              "set"
            ]
          },
          "metadata": {},
          "execution_count": 6
        }
      ]
    },
    {
      "cell_type": "markdown",
      "source": [
        "## 17. Write a code to clear all elements from the set {1, 2, 3, 4, 5}."
      ],
      "metadata": {
        "id": "B7NxXhXvro32"
      }
    },
    {
      "cell_type": "code",
      "source": [
        "s2 = {1, 2, 3, 4, 5}\n",
        "print(s2)\n",
        "\n",
        "s2.clear()\n",
        "print(s2)"
      ],
      "metadata": {
        "colab": {
          "base_uri": "https://localhost:8080/"
        },
        "id": "4gR8acAErleg",
        "outputId": "7d63d552-88c7-45c9-877c-1d6bbcc21010"
      },
      "execution_count": 9,
      "outputs": [
        {
          "output_type": "stream",
          "name": "stdout",
          "text": [
            "{1, 2, 3, 4, 5}\n",
            "set()\n"
          ]
        }
      ]
    },
    {
      "cell_type": "markdown",
      "source": [
        "## 18. Write a code to remove the element 4 from the set {1, 2, 3, 4}"
      ],
      "metadata": {
        "id": "cF1XuQ-Yr8NN"
      }
    },
    {
      "cell_type": "code",
      "source": [
        "s3 = {1, 2, 3, 4}\n",
        "print(s3)\n",
        "\n",
        "s3.remove(4)\n",
        "print(s3)"
      ],
      "metadata": {
        "colab": {
          "base_uri": "https://localhost:8080/"
        },
        "id": "DJjRUwzCr2na",
        "outputId": "01687b61-76bf-43de-cb7e-d57e1e0ee22d"
      },
      "execution_count": 10,
      "outputs": [
        {
          "output_type": "stream",
          "name": "stdout",
          "text": [
            "{1, 2, 3, 4}\n",
            "{1, 2, 3}\n"
          ]
        }
      ]
    },
    {
      "cell_type": "markdown",
      "source": [
        "## 19. Write a code to find the union of two sets {1, 2, 3} and {3, 4, 5}."
      ],
      "metadata": {
        "id": "NV1jWbG4sQws"
      }
    },
    {
      "cell_type": "code",
      "source": [
        "s4 = {1, 2, 3}\n",
        "s5 = {3, 4, 5}\n",
        "\n",
        "s4.union(s5)\n",
        "#OR\n",
        "print(s4 | s5)"
      ],
      "metadata": {
        "colab": {
          "base_uri": "https://localhost:8080/"
        },
        "id": "_WdLXFhMsPxk",
        "outputId": "e46cbcd4-384d-4d17-a2a0-069f1804d739"
      },
      "execution_count": 16,
      "outputs": [
        {
          "output_type": "stream",
          "name": "stdout",
          "text": [
            "{1, 2, 3, 4, 5}\n"
          ]
        }
      ]
    },
    {
      "cell_type": "markdown",
      "source": [
        "## 20. Write a code to find the intersection of two sets {1, 2, 3} and {2, 3, 4}."
      ],
      "metadata": {
        "id": "hEn_9XIOsoDt"
      }
    },
    {
      "cell_type": "code",
      "source": [
        "s4 = {1, 2, 3}\n",
        "s6 = {2, 3, 4}\n",
        "\n",
        "s4.intersection(s6)\n",
        "#OR\n",
        "print(s4 & s6)"
      ],
      "metadata": {
        "colab": {
          "base_uri": "https://localhost:8080/"
        },
        "id": "TXERbSZhslFm",
        "outputId": "210b217b-2f43-498e-c74a-fa912880303c"
      },
      "execution_count": 18,
      "outputs": [
        {
          "output_type": "stream",
          "name": "stdout",
          "text": [
            "{2, 3}\n"
          ]
        }
      ]
    },
    {
      "cell_type": "markdown",
      "source": [
        "## 21.  Write a code to create a dictionary with the keys \"name\", \"age\", and \"city\", and print it."
      ],
      "metadata": {
        "id": "7i1lCPiLtc90"
      }
    },
    {
      "cell_type": "code",
      "source": [
        "d1 = {\"Name\": \"Kirt\", \"Age\": 20, \"city\": \"Varanasi\"}\n",
        "print(d1)"
      ],
      "metadata": {
        "colab": {
          "base_uri": "https://localhost:8080/"
        },
        "id": "yFhdiW9fta2B",
        "outputId": "b97c89ca-3a28-4ddf-fdc5-cf072df904fe"
      },
      "execution_count": 21,
      "outputs": [
        {
          "output_type": "stream",
          "name": "stdout",
          "text": [
            "{'Name': 'Kirt', 'Age': 20, 'city': 'Varanasi'}\n"
          ]
        }
      ]
    },
    {
      "cell_type": "markdown",
      "source": [
        "## 22. Write a code to add a new key-value pair \"country\": \"USA\" to the dictionary {'name': 'John', 'age': 25}."
      ],
      "metadata": {
        "id": "wIEtwcP9t-CC"
      }
    },
    {
      "cell_type": "code",
      "source": [
        "d2 = {'name': 'John', 'age': 25}\n",
        "print(d2)\n",
        "d2[\"country\"] = \"USA\"\n",
        "print(d2)"
      ],
      "metadata": {
        "colab": {
          "base_uri": "https://localhost:8080/"
        },
        "id": "PpzzypMDuPob",
        "outputId": "67eb44ed-5f6e-48e0-bc93-e227e8ba1ef5"
      },
      "execution_count": 24,
      "outputs": [
        {
          "output_type": "stream",
          "name": "stdout",
          "text": [
            "{'name': 'John', 'age': 25}\n",
            "{'name': 'John', 'age': 25, 'country': 'USA'}\n"
          ]
        }
      ]
    },
    {
      "cell_type": "markdown",
      "source": [
        "## 23. Write a code to access the value associated with the key \"name\" in the dictionary {'name': 'Alice', 'age': 30}."
      ],
      "metadata": {
        "id": "7AGBiYoiuwKK"
      }
    },
    {
      "cell_type": "code",
      "source": [
        "d3 = {'name': 'Alice', 'age': 30}\n",
        "d3[\"name\"]"
      ],
      "metadata": {
        "colab": {
          "base_uri": "https://localhost:8080/",
          "height": 36
        },
        "id": "Oa1bzOlQudJc",
        "outputId": "0aec3dae-6bdb-410f-cec3-89b61261cfd0"
      },
      "execution_count": 26,
      "outputs": [
        {
          "output_type": "execute_result",
          "data": {
            "text/plain": [
              "'Alice'"
            ],
            "application/vnd.google.colaboratory.intrinsic+json": {
              "type": "string"
            }
          },
          "metadata": {},
          "execution_count": 26
        }
      ]
    },
    {
      "cell_type": "markdown",
      "source": [
        "## 24. Write a code to remove the key \"age\" from the dictionary {'name': 'Bob', 'age': 22, 'city': 'New York'}."
      ],
      "metadata": {
        "id": "wsvDBJhmvLMB"
      }
    },
    {
      "cell_type": "code",
      "source": [
        "d4 = {'name': 'Bob', 'age': 22, 'city': 'New York'}\n",
        "print(d4)\n",
        "d4.pop('age')\n",
        "print(d4)"
      ],
      "metadata": {
        "colab": {
          "base_uri": "https://localhost:8080/"
        },
        "id": "0EF1hYR1vIzq",
        "outputId": "1d10c31c-da73-4970-95d1-742bcef6e3af"
      },
      "execution_count": 30,
      "outputs": [
        {
          "output_type": "stream",
          "name": "stdout",
          "text": [
            "{'name': 'Bob', 'age': 22, 'city': 'New York'}\n",
            "{'name': 'Bob', 'city': 'New York'}\n"
          ]
        }
      ]
    },
    {
      "cell_type": "markdown",
      "source": [
        "## 25.  Write a code to check if the key \"city\" exists in the dictionary {'name': 'Alice', 'city': 'Paris'}."
      ],
      "metadata": {
        "id": "B7PERuycvwGw"
      }
    },
    {
      "cell_type": "code",
      "source": [
        "d5 = {'name': 'Alice', 'city': 'Paris'}\n",
        "\"city\" in d5"
      ],
      "metadata": {
        "colab": {
          "base_uri": "https://localhost:8080/"
        },
        "id": "lw53MCNIvjS1",
        "outputId": "bfeb5d9e-cc25-4b5c-bc88-d6640d938700"
      },
      "execution_count": 31,
      "outputs": [
        {
          "output_type": "execute_result",
          "data": {
            "text/plain": [
              "True"
            ]
          },
          "metadata": {},
          "execution_count": 31
        }
      ]
    },
    {
      "cell_type": "markdown",
      "source": [
        "## 26. Write a code to create a list, a tuple, and a dictionary, and print them all."
      ],
      "metadata": {
        "id": "xTuB17e8wyYY"
      }
    },
    {
      "cell_type": "code",
      "source": [
        "#LIST\n",
        "lis = [1, 2, 3, 4, 5]\n",
        "print(lis)\n",
        "\n",
        "#TUPLE\n",
        "tup = ('a', 'b', 'c', 'd', 'e')\n",
        "print(tup)\n",
        "\n",
        "#DICTIONARY\n",
        "dis = {1:'a', 2:'b', 3:'c'}\n",
        "print(dis)"
      ],
      "metadata": {
        "colab": {
          "base_uri": "https://localhost:8080/"
        },
        "id": "bUmU1rX2wmaE",
        "outputId": "91e855fb-d154-401d-a747-7c6605d8e2a3"
      },
      "execution_count": 33,
      "outputs": [
        {
          "output_type": "stream",
          "name": "stdout",
          "text": [
            "[1, 2, 3, 4, 5]\n",
            "('a', 'b', 'c', 'd', 'e')\n",
            "{1: 'a', 2: 'b', 3: 'c'}\n"
          ]
        }
      ]
    },
    {
      "cell_type": "markdown",
      "source": [
        "## 27. Write a code to create a list of 5 random numbers between 1 and 100, sort it in ascending order, and print the result."
      ],
      "metadata": {
        "id": "wXqY4bsQyGlB"
      }
    },
    {
      "cell_type": "code",
      "source": [
        "# Generate a list of 5 random numbers between 1 and 100\n",
        "\n",
        "import random\n",
        "\n",
        "random_list = random.sample(range(1, 101), 5)\n",
        "print(random_list)\n",
        "\n",
        "random_list.sort()\n",
        "print(random_list)"
      ],
      "metadata": {
        "colab": {
          "base_uri": "https://localhost:8080/"
        },
        "id": "58n0Re12yBx6",
        "outputId": "b2be0566-5d01-4bac-d0ea-5ad42c5f2c6b"
      },
      "execution_count": 45,
      "outputs": [
        {
          "output_type": "stream",
          "name": "stdout",
          "text": [
            "[40, 24, 60, 67, 56]\n",
            "[24, 40, 56, 60, 67]\n"
          ]
        }
      ]
    },
    {
      "cell_type": "markdown",
      "source": [
        "## 28. Write a code to create a list with strings and print the element at the third index."
      ],
      "metadata": {
        "id": "lnAZMnI3yYJK"
      }
    },
    {
      "cell_type": "code",
      "source": [
        "lis_1 = ['apple', 'kiwi', 'lemon', 'dragon fruit', 'banana']\n",
        "lis_1[3]"
      ],
      "metadata": {
        "colab": {
          "base_uri": "https://localhost:8080/",
          "height": 36
        },
        "id": "RTFOiIX3ydVm",
        "outputId": "0ebff887-4d69-49d1-e3cc-be85871b4583"
      },
      "execution_count": 34,
      "outputs": [
        {
          "output_type": "execute_result",
          "data": {
            "text/plain": [
              "'dragon fruit'"
            ],
            "application/vnd.google.colaboratory.intrinsic+json": {
              "type": "string"
            }
          },
          "metadata": {},
          "execution_count": 34
        }
      ]
    },
    {
      "cell_type": "markdown",
      "source": [
        "## 29. Write a code to combine two dictionaries into one and print the result."
      ],
      "metadata": {
        "id": "cWjh3cGny7FA"
      }
    },
    {
      "cell_type": "code",
      "source": [
        "dis_1 = {'name': 'Alice', 'city': 'Paris'}\n",
        "dis_2 = {'father': 'John', 'age': 25}\n",
        "dis_1.update(dis_2)\n",
        "print(dis_1)"
      ],
      "metadata": {
        "colab": {
          "base_uri": "https://localhost:8080/"
        },
        "id": "3vDveEz4y5Wf",
        "outputId": "8fa33a45-4cd9-44ca-f5ab-cb0ed7566b26"
      },
      "execution_count": 39,
      "outputs": [
        {
          "output_type": "stream",
          "name": "stdout",
          "text": [
            "{'name': 'Alice', 'city': 'Paris', 'father': 'John', 'age': 25}\n"
          ]
        }
      ]
    },
    {
      "cell_type": "markdown",
      "source": [
        "## 30.  Write a code to convert a list of strings into a set."
      ],
      "metadata": {
        "id": "eQA380-o0xBf"
      }
    },
    {
      "cell_type": "code",
      "source": [
        "lis_2 = ['apple', 'kiwi', 'lemon', 'banana', 'grapes']\n",
        "set_1 = set(lis_2)\n",
        "print(set_1)\n",
        "type(set_1)"
      ],
      "metadata": {
        "colab": {
          "base_uri": "https://localhost:8080/"
        },
        "id": "mboR5IvJzyfY",
        "outputId": "69461ce8-3712-48ab-f0de-c6fe4b965d57"
      },
      "execution_count": 41,
      "outputs": [
        {
          "output_type": "stream",
          "name": "stdout",
          "text": [
            "{'lemon', 'apple', 'grapes', 'kiwi', 'banana'}\n"
          ]
        },
        {
          "output_type": "execute_result",
          "data": {
            "text/plain": [
              "set"
            ]
          },
          "metadata": {},
          "execution_count": 41
        }
      ]
    },
    {
      "cell_type": "code",
      "source": [],
      "metadata": {
        "id": "wthewpeh2Se3"
      },
      "execution_count": null,
      "outputs": []
    }
  ]
}